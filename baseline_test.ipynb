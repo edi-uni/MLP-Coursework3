{
 "cells": [
  {
   "cell_type": "code",
   "execution_count": 111,
   "metadata": {},
   "outputs": [],
   "source": [
    "import numpy as np \n",
    "import pandas as pd \n",
    "import matplotlib.pyplot as plt\n",
    "%matplotlib inline\n",
    "\n",
    "from sklearn.ensemble import RandomForestClassifier\n",
    "from sklearn.cross_validation import KFold\n",
    "\n",
    "filename= \"C:/Users/Komal/Desktop/mlp/Kobe/data.csv\"\n",
    "raw = pd.read_csv(filename)\n",
    "#raw.head()\n",
    "#raw[pd.notnull(raw['shot_made_flag'])]"
   ]
  },
  {
   "cell_type": "code",
   "execution_count": 112,
   "metadata": {},
   "outputs": [],
   "source": [
    "drops = ['shot_id', 'team_id', 'team_name', 'shot_zone_area', 'shot_zone_range', 'shot_zone_basic', \\\n",
    "         'matchup', 'game_event_id', 'game_id', 'game_date']\n",
    "for drop in drops:\n",
    "    raw = raw.drop(drop, 1)\n",
    "\n",
    "categorical_vars = ['action_type', 'combined_shot_type', 'shot_type', 'opponent', 'season']\n",
    "for var in categorical_vars:\n",
    "    raw = pd.concat([raw, pd.get_dummies(raw[var], prefix=var)], 1)\n",
    "    raw = raw.drop(var, 1)\n",
    "\n",
    "#raw.head()"
   ]
  },
  {
   "cell_type": "code",
   "execution_count": 113,
   "metadata": {},
   "outputs": [],
   "source": [
    "df = raw[pd.notnull(raw['shot_made_flag'])]\n",
    "indexOfNull = raw[raw['shot_made_flag'].isnull()].index.tolist()\n",
    "\n",
    "submission = raw[pd.isnull(raw['shot_made_flag'])]\n",
    "\n",
    "submission = submission.drop('shot_made_flag', 1)"
   ]
  },
  {
   "cell_type": "code",
   "execution_count": 114,
   "metadata": {},
   "outputs": [],
   "source": [
    "import random\n",
    "per_test =  round((15 * len(df))/100)\n",
    "n =[0 for i in range(per_test)]\n",
    "\n",
    "m = len(indexOfNull)-1\n",
    "for z in range(per_test):\n",
    "    c = indexOfNull[m]+1\n",
    "    x = raw.iloc[c]\n",
    "    #print(pd.notnull(x['shot_made_flag']))\n",
    "    flg = 0\n",
    "    if(pd.isnull(x['shot_made_flag'])):\n",
    "        #print(c)\n",
    "        flg =1\n",
    "        while flg==1:\n",
    "            c = c+1\n",
    "            x = raw.iloc[c]\n",
    "            if pd.notnull(x['shot_made_flag']):\n",
    "                flg =0\n",
    "    n[z] = c\n",
    "    m=m-1;\n",
    "\n",
    "\n",
    "\n",
    "test_comp = raw.iloc[n]\n",
    "test = test_comp.drop('shot_made_flag', 1)\n",
    "test_y = test_comp['shot_made_flag']\n",
    "df = raw.drop(raw.index[n])\n",
    "df= df[pd.notnull(df['shot_made_flag'])]\n",
    "# separate df into explanatory and response variables\n",
    "train = df.drop('shot_made_flag', 1)\n",
    "train_y = df['shot_made_flag']"
   ]
  },
  {
   "cell_type": "code",
   "execution_count": 115,
   "metadata": {},
   "outputs": [],
   "source": [
    "import scipy as sp\n",
    "def logloss(act, pred):\n",
    "    epsilon = 1e-15\n",
    "    pred = sp.maximum(epsilon, pred)\n",
    "    pred = sp.minimum(1-epsilon, pred)\n",
    "    ll = sum(act*sp.log(pred) + sp.subtract(1,act)*sp.log(sp.subtract(1,pred)))\n",
    "    ll = ll * -1.0/len(act)\n",
    "    return ll"
   ]
  },
  {
   "cell_type": "code",
   "execution_count": 116,
   "metadata": {},
   "outputs": [
    {
     "name": "stdout",
     "output_type": "stream",
     "text": [
      "Finding best n_estimators for RandomForestClassifier...\n",
      "the number of trees : 1\n",
      "Done processing 1 trees (0.996sec)\n",
      "the number of trees : 10\n",
      "Done processing 10 trees (4.919sec)\n",
      "the number of trees : 100\n",
      "Done processing 100 trees (46.707sec)\n",
      "100 11.48067540842939\n",
      "Finding best max_depth for RandomForestClassifier...\n",
      "the max depth : 1\n",
      "Done processing 1 trees (4.811sec)\n",
      "the max depth : 10\n",
      "Done processing 10 trees (16.915sec)\n",
      "the max depth : 100\n",
      "Done processing 100 trees (51.472sec)\n",
      "10 11.002084903516849\n"
     ]
    }
   ],
   "source": [
    "from sklearn.metrics import confusion_matrix\n",
    "import time\n",
    "\n",
    "\n",
    "# find the best n_estimators for RandomForestClassifier\n",
    "print('Finding best n_estimators for RandomForestClassifier...')\n",
    "min_score = 100000\n",
    "best_n = 0\n",
    "scores_n = []\n",
    "range_n = np.logspace(0,2,num=3).astype(int)\n",
    "\n",
    "for n in range_n:\n",
    "    print(\"the number of trees : {0}\".format(n))\n",
    "    t1 = time.time()\n",
    "    \n",
    "    rfc_score = 0.\n",
    "    rfc = RandomForestClassifier(n_estimators=n)\n",
    "    for train_k, test_k in KFold(len(train), n_folds=10, shuffle=True):\n",
    "        rfc.fit(train.iloc[train_k], train_y.iloc[train_k])\n",
    "        #rfc_score += rfc.score(train.iloc[test_k], train_y.iloc[test_k])/10\n",
    "        pred = rfc.predict(train.iloc[test_k])\n",
    "        rfc_score += logloss(train_y.iloc[test_k], pred) / 10\n",
    "    scores_n.append(rfc_score)\n",
    "    if rfc_score < min_score:\n",
    "        min_score = rfc_score\n",
    "        best_n = n\n",
    "        \n",
    "    t2 = time.time()\n",
    "    print('Done processing {0} trees ({1:.3f}sec)'.format(n, t2-t1))\n",
    "print(best_n, min_score)\n",
    "\n",
    "# find best max_depth for RandomForestClassifier\n",
    "print('Finding best max_depth for RandomForestClassifier...')\n",
    "min_score = 100000\n",
    "best_m = 0\n",
    "scores_m = []\n",
    "range_m = np.logspace(0,2,num=3).astype(int)\n",
    "for m in range_m:\n",
    "    print(\"the max depth : {0}\".format(m))\n",
    "    t1 = time.time()\n",
    "    \n",
    "    rfc_score = 0.\n",
    "    rfc = RandomForestClassifier(max_depth=m, n_estimators=best_n)\n",
    "    for train_k, test_k in KFold(len(train), n_folds=10, shuffle=True):\n",
    "        rfc.fit(train.iloc[train_k], train_y.iloc[train_k])\n",
    "        #rfc_score += rfc.score(train.iloc[test_k], train_y.iloc[test_k])/10\n",
    "        pred = rfc.predict(train.iloc[test_k])\n",
    "        rfc_score += logloss(train_y.iloc[test_k], pred) / 10\n",
    "    scores_m.append(rfc_score)\n",
    "    if rfc_score < min_score:\n",
    "        min_score = rfc_score\n",
    "        best_m = m\n",
    "    \n",
    "    t2 = time.time()\n",
    "    print('Done processing {0} trees ({1:.3f}sec)'.format(m, t2-t1))\n",
    "print(best_m, min_score)"
   ]
  },
  {
   "cell_type": "code",
   "execution_count": 117,
   "metadata": {},
   "outputs": [
    {
     "data": {
      "text/plain": [
       "<matplotlib.text.Text at 0x27bc712b358>"
      ]
     },
     "execution_count": 117,
     "metadata": {},
     "output_type": "execute_result"
    },
    {
     "data": {
      "image/png": "[encoded data removed]",
      "text/plain": [
       "<matplotlib.figure.Figure at 0x27bc6dfa5c0>"
      ]
     },
     "metadata": {
      "needs_background": "light"
     },
     "output_type": "display_data"
    }
   ],
   "source": [
    "plt.figure(figsize=(10,5))\n",
    "plt.subplot(121)\n",
    "plt.plot(range_n, scores_n)\n",
    "plt.ylabel('score')\n",
    "plt.xlabel('number of trees')\n",
    "\n",
    "plt.subplot(122)\n",
    "plt.plot(range_m, scores_m)\n",
    "plt.ylabel('score')\n",
    "plt.xlabel('max depth')"
   ]
  },
  {
   "cell_type": "code",
   "execution_count": 118,
   "metadata": {},
   "outputs": [],
   "source": [
    "model = RandomForestClassifier(n_estimators=best_n, max_depth=best_m)\n",
    "model.fit(train, train_y)\n",
    "pred_prob = model.predict_proba(train)\n",
    "pred_tes_probt = model.predict_proba(test)\n",
    "\n",
    "\n",
    "pred_train = model.predict(train)\n",
    "pred = model.predict(submission)\n",
    "pred_test = model.predict(test)\n"
   ]
  },
  {
   "cell_type": "code",
   "execution_count": 119,
   "metadata": {},
   "outputs": [
    {
     "name": "stdout",
     "output_type": "stream",
     "text": [
      "Mean Absolute Train Error: 0.31 degrees.\n",
      "Train Accuracy: 69.34 %.\n",
      "Mean Absolute Test Error: 0.33 degrees.\n",
      "Test Accuracy: 67.39 %.\n"
     ]
    }
   ],
   "source": [
    "\n",
    "# Calculate the absolute errors\n",
    "errors = abs(pred_train - train_y)\n",
    "# Print out the mean absolute error (mae)\n",
    "print('Mean Absolute Train Error:', round(np.mean(errors), 2), 'degrees.')\n",
    "\n",
    "# Calculate mean absolute percentage error (MAPE)\n",
    "mape = 100 * (errors )\n",
    "# Calculate and display accuracy\n",
    "accuracy = 100 - np.mean(mape)\n",
    "print('Train Accuracy:', round(accuracy, 2), '%.')\n",
    "\n",
    "\n",
    "# Calculate the absolute errors\n",
    "errors1 = abs(pred_test - test_y)\n",
    "# Print out the mean absolute error (mae)\n",
    "print('Mean Absolute Test Error:', round(np.mean(errors1), 2), 'degrees.')\n",
    "\n",
    "# Calculate mean absolute percentage error (MAPE)\n",
    "mape = 100 * (errors1 )\n",
    "# Calculate and display accuracy\n",
    "accuracy1 = 100 - np.mean(mape)\n",
    "print('Test Accuracy:', round(accuracy1, 2), '%.')\n",
    "\n"
   ]
  },
  {
   "cell_type": "code",
   "execution_count": 54,
   "metadata": {},
   "outputs": [],
   "source": [
    "sub = pd.read_csv(\"C:/Users/Komal/Desktop/mlp/Kobe/sample_submission.csv\")\n",
    "sub['shot_made_flag'] = pred\n",
    "sub.to_csv(\"real_submission_train_results.csv\", index=False)"
   ]
  },
  {
   "cell_type": "code",
   "execution_count": null,
   "metadata": {},
   "outputs": [],
   "source": []
  }
 ],
 "metadata": {
  "kernelspec": {
   "display_name": "Python 3",
   "language": "python",
   "name": "python3"
  },
  "language_info": {
   "codemirror_mode": {
    "name": "ipython",
    "version": 3
   },
   "file_extension": ".py",
   "mimetype": "text/x-python",
   "name": "python",
   "nbconvert_exporter": "python",
   "pygments_lexer": "ipython3",
   "version": "3.5.6"
  }
 },
 "nbformat": 4,
 "nbformat_minor": 2
}
